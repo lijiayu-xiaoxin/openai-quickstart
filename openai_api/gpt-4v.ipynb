{
 "cells": [
  {
   "cell_type": "markdown",
   "id": "b4b6a552-b7f0-433d-9a70-61c4fcc52d5d",
   "metadata": {},
   "source": [
    "# 快速入门 GPT-4 Vison\n",
    "\n",
    "从历史上看，语言模型系统仅接受**文本**作为输入。但是单一的输入形式，限制了大模型的应用落地范围。\n",
    "\n",
    "随着技术发展，OpenAI 开发的 GPT-4 Turbo with Vision（简称 GPT-4V）允许模型接收**图像**作为输入，并回答关于它们的问题。\n",
    "\n",
    "📢注意，目前在 Assistants API 中使用 GPT-4 时还不支持图像输入。"
   ]
  },
  {
   "cell_type": "markdown",
   "id": "3a701c56-0a2a-4dea-b458-234150b84ff2",
   "metadata": {},
   "source": [
    "## 使用 GPT-4V 识别线上图像（URL）\n",
    "\n",
    "![image_sample](https://upload.wikimedia.org/wikipedia/commons/thumb/d/dd/Gfp-wisconsin-madison-the-nature-boardwalk.jpg/2560px-Gfp-wisconsin-madison-the-nature-boardwalk.jpg)"
   ]
  },
  {
   "cell_type": "code",
   "execution_count": 2,
   "id": "bf8689b2-94f2-4a35-a332-9ffed0a56aca",
   "metadata": {},
   "outputs": [
    {
     "name": "stdout",
     "output_type": "stream",
     "text": [
      "Choice(finish_reason='stop', index=0, logprobs=None, message=ChatCompletionMessage(content='这张图片展示了一个宁静的自然景观，画面中心是一条铺设整齐的木板路，引领我们的视线深入到远处的天际线。周围是茂盛的绿色草地，点缀着一些低矮的灌木和树木。天空是晴朗的，有几朵轻盈的白云。图片整体呈现出平和与自然美的氛围，是一个适合散步和放松的地方。光线柔和，色彩鲜明，给人一种清新和宁静的感觉。', role='assistant', function_call=None, tool_calls=None))\n"
     ]
    }
   ],
   "source": [
    "from openai import OpenAI\n",
    "\n",
    "client = OpenAI(base_url=\"https://api.xiaoai.plus/v1\")\n",
    "\n",
    "response = client.chat.completions.create(\n",
    "  model=\"gpt-4-turbo\",\n",
    "  messages=[\n",
    "    {\n",
    "      \"role\": \"user\",\n",
    "      \"content\": [\n",
    "        {\"type\": \"text\", \"text\": \"介绍下这幅图?\"},\n",
    "        {\n",
    "          \"type\": \"image_url\",\n",
    "          \"image_url\": {\n",
    "            \"url\": \"https://upload.wikimedia.org/wikipedia/commons/thumb/d/dd/Gfp-wisconsin-madison-the-nature-boardwalk.jpg/2560px-Gfp-wisconsin-madison-the-nature-boardwalk.jpg\",\n",
    "          },\n",
    "        },\n",
    "      ],\n",
    "    }\n",
    "  ],\n",
    "  max_tokens=300,\n",
    ")\n",
    "\n",
    "print(response.choices[0])"
   ]
  },
  {
   "cell_type": "code",
   "execution_count": 3,
   "id": "9bcc9026-7485-428f-8269-ea9ae41405cb",
   "metadata": {},
   "outputs": [
    {
     "data": {
      "text/plain": [
       "'这张图片展示了一个宁静的自然景观，画面中心是一条铺设整齐的木板路，引领我们的视线深入到远处的天际线。周围是茂盛的绿色草地，点缀着一些低矮的灌木和树木。天空是晴朗的，有几朵轻盈的白云。图片整体呈现出平和与自然美的氛围，是一个适合散步和放松的地方。光线柔和，色彩鲜明，给人一种清新和宁静的感觉。'"
      ]
     },
     "execution_count": 3,
     "metadata": {},
     "output_type": "execute_result"
    }
   ],
   "source": [
    "response.choices[0].message.content"
   ]
  },
  {
   "cell_type": "markdown",
   "id": "7fb50a14-fa14-4c63-9f81-b98b0f65d9d9",
   "metadata": {},
   "source": [
    "### 封装成一个函数 query_image_description"
   ]
  },
  {
   "cell_type": "code",
   "execution_count": 4,
   "id": "c1ca5428-c7e1-4d7e-91f1-d4a05e95ac51",
   "metadata": {},
   "outputs": [],
   "source": [
    "def query_image_description(url, prompt=\"介绍下这幅图?\"):\n",
    "    client = OpenAI(base_url=\"https://api.xiaoai.plus/v1\")  # 初始化 OpenAI 客户端\n",
    "    \n",
    "    # 发送请求给 OpenAI 的聊天模型\n",
    "    response = client.chat.completions.create(\n",
    "        model=\"gpt-4-turbo\",  # 指定使用的模型\n",
    "        messages=[\n",
    "            {\n",
    "                \"role\": \"user\",\n",
    "                \"content\": [\n",
    "                    {\"type\": \"text\", \"text\": prompt},\n",
    "                    {\"type\": \"image_url\", \"image_url\": {\"url\": url}},\n",
    "                ],\n",
    "            }\n",
    "        ],\n",
    "        max_tokens=300,\n",
    "    )\n",
    "    \n",
    "    # 返回模型的响应\n",
    "    return response.choices[0].message.content\n"
   ]
  },
  {
   "cell_type": "markdown",
   "id": "a0d0aceb-7cc5-4da1-b6db-e47716ba145a",
   "metadata": {},
   "source": [
    "### 调用函数测试\n",
    "\n",
    "![meme_0](https://p6.itc.cn/q_70/images03/20200602/0c267a0d3d814c9783659eb956969ba1.jpeg)"
   ]
  },
  {
   "cell_type": "code",
   "execution_count": 5,
   "id": "454abb5c-49d3-42e6-867e-f44e25af5e0e",
   "metadata": {},
   "outputs": [
    {
     "name": "stdout",
     "output_type": "stream",
     "text": [
      "这幅图中展示了两只狗的形象，一只被搞笑地改造成有着健美肌肉的外观，另一只是较为常见的柴犬坐姿。图中的文字有点像搞笑对比，左边的狗被形容为“16岁的我，工作后的我”，拥有壮硕的身体和理想化的特征，而右边的狗则表现出了一种较为消极或现实的状态，与理想化的自我形象形成对比。整体而言，这幅图具有幽默和讽刺的风格，通过夸张的对比来表达生活中理想与现实之间的差距。\n"
     ]
    }
   ],
   "source": [
    "image_url = \"https://p6.itc.cn/q_70/images03/20200602/0c267a0d3d814c9783659eb956969ba1.jpeg\"\n",
    "content = query_image_description(image_url)\n",
    "print(content)"
   ]
  },
  {
   "cell_type": "code",
   "execution_count": null,
   "id": "2471306a-84e2-4793-b065-0741fbe57262",
   "metadata": {},
   "outputs": [],
   "source": []
  },
  {
   "cell_type": "code",
   "execution_count": null,
   "id": "af79850f-83b5-49c4-a3f3-f2c01a28f458",
   "metadata": {},
   "outputs": [],
   "source": []
  },
  {
   "cell_type": "markdown",
   "id": "63ae05bd-872c-4638-8259-df4f420aaa1d",
   "metadata": {},
   "source": [
    "### 使用 GPT-4V 识别本地图像文件（Base64编码）\n"
   ]
  },
  {
   "cell_type": "code",
   "execution_count": 9,
   "id": "2dd46066-df8d-4c75-9064-331e375ddbc1",
   "metadata": {},
   "outputs": [],
   "source": [
    "from openai import OpenAI\n",
    "import base64\n",
    "import requests\n",
    "import json\n",
    "\n",
    "client = OpenAI(base_url=\"https://api.xiaoai.plus/v1\")  # 初始化 OpenAI 客户端\n",
    "\n",
    "def query_base64_image_description(image_path, prompt=\"解释下图里的内容？\", max_tokens=1000):\n",
    "\n",
    "    # 实现 Base64 编码\n",
    "    def encode_image(path):\n",
    "        with open(path, \"rb\") as image_file:\n",
    "            return base64.b64encode(image_file.read()).decode('utf-8')\n",
    "\n",
    "    # 获取图像的 Base64 编码字符串\n",
    "    base64_image = encode_image(image_path)\n",
    "\n",
    "    # 构造请求的 HTTP Header\n",
    "    headers = {\n",
    "        \"Content-Type\": \"application/json\",\n",
    "        \"Authorization\": f\"Bearer {client.api_key}\"\n",
    "    }\n",
    "\n",
    "    # 构造请求的负载\n",
    "    payload = {\n",
    "        \"model\": \"gpt-4-turbo\",\n",
    "        \"messages\": [\n",
    "            {\n",
    "                \"role\": \"user\",\n",
    "                \"content\": [\n",
    "                    {\"type\": \"text\", \"text\": prompt},\n",
    "                    {\"type\": \"image_url\", \"image_url\": {\"url\": f\"data:image/jpeg;base64,{base64_image}\"}}\n",
    "                ]\n",
    "            }\n",
    "        ],\n",
    "        \"max_tokens\": max_tokens\n",
    "    }\n",
    "\n",
    "    # 发送 HTTP 请求\n",
    "    response = requests.post(\"https://api.xiaoai.plus/v1/chat/completions\", headers=headers, json=payload)\n",
    "\n",
    "    # 检查响应并提取所需的 content 字段\n",
    "    if response.status_code == 200:\n",
    "        response_data = response.json()\n",
    "        content = response_data['choices'][0]['message']['content']\n",
    "        return content\n",
    "    else:\n",
    "        return f\"Error: {response.status_code}, {response.text}\""
   ]
  },
  {
   "cell_type": "markdown",
   "id": "27b238f9-9536-4ee2-b8c6-f70719ebbc68",
   "metadata": {},
   "source": [
    "#### 使用 Assistants API生成的 GDP 40年对比曲线图\n",
    "\n",
    "![gdp_data](./images/gdp_1980_2020.jpg)"
   ]
  },
  {
   "cell_type": "code",
   "execution_count": 10,
   "id": "3c0e9063-e8d9-4bc1-ae60-ad0aa5bee32b",
   "metadata": {},
   "outputs": [
    {
     "name": "stdout",
     "output_type": "stream",
     "text": [
      "这张图展示了从1980年到2020年期间，美国、中国、日本和德国的国内生产总值（GDP）的比较。图中用不同颜色的线表示不同国家的GDP走势：\n",
      "\n",
      "- 蓝色线代表美国的GDP，从1980年约1万亿美元逐步增加至2020年接近22万亿美元。\n",
      "- 红色线代表中国的GDP，从1980年的低起点明显上升，2000年后增速加快，2020年接近15万亿美元。\n",
      "- 紫色线代表日本，GDP在1995年左右达到峰值后基本保持平稳，2020年在5万亿美元左右。\n",
      "- 绿色线代表德国，GDP增长相对平稳，从1980年的不到1万亿美元，增长至2020年的4万亿美元左右。\n",
      "\n",
      "整体上，美国的GDP在整个时间段内保持全球领先，中国的GDP增长非常迅速，尤其是进入21世纪后，增长速度显著增加。日本的GDP在20世纪90年代达到顶峰之后，增长放缓。德国的GDP增长较为稳定。这张图很好地反映了这四个经济体在过去40年的经济发展轨迹。\n"
     ]
    }
   ],
   "source": [
    "content = query_base64_image_description(\"./images/gdp_1980_2020.jpg\")\n",
    "print(content)"
   ]
  },
  {
   "cell_type": "markdown",
   "id": "6d18b227-32a6-4450-86bd-c99ad5c533b9",
   "metadata": {},
   "source": [
    "#### 使用 GPT-4V 识别手写体笔记\n",
    "\n",
    "![](./images/handwriting_0.jpg)"
   ]
  },
  {
   "cell_type": "code",
   "execution_count": 11,
   "id": "4193fa11-5edd-404c-9472-0cb8cc6799fc",
   "metadata": {},
   "outputs": [
    {
     "name": "stdout",
     "output_type": "stream",
     "text": [
      "这张图片是一本笔记本的一页，上面记录了一些关于机器学习模型调整的笔记，特别是与自然语言处理相关的内容。以下是图片内容的详细解释：\n",
      "\n",
      "1. **标题“浅谈简单的PETF方式”** - 这意味着笔记的焦点是简单的深度学习模型微调技术。\n",
      "\n",
      "2. **Prompt Tuning (PMT & Small Model)** - 提到了Prompt Tuning，这是一种用于调整预训练模型的方法，通过微调少量的参数（例如在小模型中）来适应特定任务。\n",
      "   - 笔记指出，X表示一个向量或一系列输入，Y表示输出结果。\n",
      "\n",
      "3. **Prefix Tuning** - 跟Prompt Tuning类似，但专注于模型输入的前缀，尝试通过调整前缀来影响模型的输出行为。\n",
      "\n",
      "4. 笔记中还提到了**LoRA (Low-Rank Adaptation)**技术，这是一种通过低秩矩阵增量更新原有权重来微调神经网络的策略。这里展示了如何通过修改权重矩阵W，增加一个微小的ΔW来达到调整的目的。与之相关的是两个公式:\n",
      "   - `\\Delta W = AB` - 这表明ΔW是两个矩阵A和B的乘积。\n",
      "   - 改进后权重的更新可以表示为 `Y = (W + \\Delta W)X`.\n",
      "\n",
      "5. 提到了具体的例子，如**QLoRA**，还对比了两种调整策略使用的资源（比如内存），显示**LoRA**需要78GB，而**QLoRA**只需48GB。\n",
      "\n",
      "这些笔记为深入了解如何通过不同的技术来优化和调整深度学习模型提供了一个基础概述。\n"
     ]
    }
   ],
   "source": [
    "content = query_base64_image_description(\"./images/handwriting_0.jpg\")\n",
    "print(content)"
   ]
  },
  {
   "cell_type": "markdown",
   "id": "ca046601-018c-455c-ace2-41392cbda456",
   "metadata": {},
   "source": [
    "#### 在 Jupyter 标准输出中渲染 Markdown 格式内容"
   ]
  },
  {
   "cell_type": "code",
   "execution_count": 12,
   "id": "516ee35b-1337-4b22-aea2-ee0adb706098",
   "metadata": {},
   "outputs": [
    {
     "data": {
      "text/markdown": [
       "这张图片是一本笔记本的一页，上面记录了一些关于机器学习模型调整的笔记，特别是与自然语言处理相关的内容。以下是图片内容的详细解释：\n",
       "\n",
       "1. **标题“浅谈简单的PETF方式”** - 这意味着笔记的焦点是简单的深度学习模型微调技术。\n",
       "\n",
       "2. **Prompt Tuning (PMT & Small Model)** - 提到了Prompt Tuning，这是一种用于调整预训练模型的方法，通过微调少量的参数（例如在小模型中）来适应特定任务。\n",
       "   - 笔记指出，X表示一个向量或一系列输入，Y表示输出结果。\n",
       "\n",
       "3. **Prefix Tuning** - 跟Prompt Tuning类似，但专注于模型输入的前缀，尝试通过调整前缀来影响模型的输出行为。\n",
       "\n",
       "4. 笔记中还提到了**LoRA (Low-Rank Adaptation)**技术，这是一种通过低秩矩阵增量更新原有权重来微调神经网络的策略。这里展示了如何通过修改权重矩阵W，增加一个微小的ΔW来达到调整的目的。与之相关的是两个公式:\n",
       "   - `\\Delta W = AB` - 这表明ΔW是两个矩阵A和B的乘积。\n",
       "   - 改进后权重的更新可以表示为 `Y = (W + \\Delta W)X`.\n",
       "\n",
       "5. 提到了具体的例子，如**QLoRA**，还对比了两种调整策略使用的资源（比如内存），显示**LoRA**需要78GB，而**QLoRA**只需48GB。\n",
       "\n",
       "这些笔记为深入了解如何通过不同的技术来优化和调整深度学习模型提供了一个基础概述。"
      ],
      "text/plain": [
       "<IPython.core.display.Markdown object>"
      ]
     },
     "metadata": {},
     "output_type": "display_data"
    }
   ],
   "source": [
    "from IPython.display import display, Markdown\n",
    "\n",
    "# 使用 display 和 Markdown 函数显示 Markdown 内容\n",
    "display(Markdown(content))"
   ]
  },
  {
   "cell_type": "code",
   "execution_count": null,
   "id": "33fdd9b2-f89a-4644-946a-b20562b39cbb",
   "metadata": {},
   "outputs": [],
   "source": [
    "![](./images/handwriting_1.jpg)"
   ]
  },
  {
   "cell_type": "code",
   "execution_count": 13,
   "id": "7c046958-aa7a-4066-88fa-4134869d9226",
   "metadata": {},
   "outputs": [
    {
     "data": {
      "text/markdown": [
       "这张图片展示了一些笔记内容，主要关注的是深度学习中的变换器（Transformer）模型及其不同的调整方法。内容清楚地分成两栏，使用中文和英文双语。\n",
       "\n",
       "左栏内容包括：\n",
       "- “转换模型”和“基准测试”（Benchmark）的研究。\n",
       "- 提到了PEFT和SOTA（State of the Art）。\n",
       "- 不同的方法包括PBFT Methods。\n",
       "- 探讨了不同的prompt tuning技术，包括Adapter（2019, Google），Prefix（2021, Stanford），以及其他的prompt技术。\n",
       "- 引入了一些与prompt tuning相关的改进方法，如soft prompts和 hand prompts。\n",
       "- 还提及了Instruction tuning和一些具体的模型如LaMDA, GPT-4, CHATGLM, BLOOM, Alpaca。\n",
       "\n",
       "右栏内容包括：\n",
       "- 讨论了多模态指令微调技术，如Llama (LLaMA)。\n",
       "- 提到了新的方法如LoRA和PETC。\n",
       "- 详细讨论了prefix tuning和adapters的应用。\n",
       "- “Project down - zero embed - project up”这句话可能描述了某种网络结构调整或数据处理方式。\n",
       "- 最后列出了一些特定的方法绑定和他们的效果，如MAM Adapters。\n",
       "\n",
       "总得来说，这些笔记围绕最新的AI技术发展，尤其是在模型微调和参数调整方法上的探索。这可能是一个科研人员或技术工作者在学习和总结相关最新知识点的记录。"
      ],
      "text/plain": [
       "<IPython.core.display.Markdown object>"
      ]
     },
     "metadata": {},
     "output_type": "display_data"
    }
   ],
   "source": [
    "content = query_base64_image_description(\"./images/handwriting_1.jpg\")\n",
    "display(Markdown(content))"
   ]
  },
  {
   "cell_type": "code",
   "execution_count": null,
   "id": "156a0f17-cca8-4f01-9ce5-53384b5ffda4",
   "metadata": {},
   "outputs": [],
   "source": []
  },
  {
   "cell_type": "code",
   "execution_count": null,
   "id": "e3bd772f-9492-4f6c-b05a-666b772ca3c9",
   "metadata": {},
   "outputs": [],
   "source": []
  },
  {
   "cell_type": "code",
   "execution_count": null,
   "id": "8afdeacb-aac1-4692-be2b-fb7957ba5e8f",
   "metadata": {},
   "outputs": [],
   "source": []
  },
  {
   "cell_type": "markdown",
   "id": "084aeaf0-4ad1-487a-bcf2-cffb7bc18314",
   "metadata": {},
   "source": [
    "## Homework: \n",
    "\n",
    "\n",
    "### #1\n",
    "\n",
    "使用 GPT-4V 识别带有手写体文字的本地图像文件，分享结果。\n",
    "\n",
    "\n",
    "### #2\n",
    "\n",
    "整合 `query_base64_image_description` 函数和 Markdown 格式渲染方法，使得输出结果更易阅读。"
   ]
  },
  {
   "cell_type": "code",
   "execution_count": 16,
   "id": "0909bf27-9c4a-498c-9fae-0f442062b9a8",
   "metadata": {},
   "outputs": [
    {
     "data": {
      "text/markdown": [
       "这张图片显示了一段手写的中文笔记，标题是“Long Chain Agents 连锁反应”，下方有两条列出的内容：\n",
       "\n",
       "1. 结链在纸面中。一条线性链或分子链。\n",
       "2. 在化学中，连接起来的其他分子或基团。\n",
       "\n",
       "这些内容似乎是关于化学或分子结构的笔记，提到了链式反应和分子链的概念。"
      ],
      "text/plain": [
       "<IPython.core.display.Markdown object>"
      ]
     },
     "metadata": {},
     "output_type": "display_data"
    }
   ],
   "source": [
    "content = query_base64_image_description(\"./images/gpt-4v.jpg\")\n",
    "display(Markdown(content))"
   ]
  },
  {
   "cell_type": "code",
   "execution_count": null,
   "id": "c0a95bb8-c590-4eac-b7e4-1f75b966f271",
   "metadata": {},
   "outputs": [],
   "source": []
  }
 ],
 "metadata": {
  "kernelspec": {
   "display_name": "integra",
   "language": "python",
   "name": "integra"
  },
  "language_info": {
   "codemirror_mode": {
    "name": "ipython",
    "version": 3
   },
   "file_extension": ".py",
   "mimetype": "text/x-python",
   "name": "python",
   "nbconvert_exporter": "python",
   "pygments_lexer": "ipython3",
   "version": "3.10.9"
  }
 },
 "nbformat": 4,
 "nbformat_minor": 5
}
